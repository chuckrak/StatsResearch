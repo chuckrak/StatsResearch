{
 "cells": [
  {
   "cell_type": "markdown",
   "metadata": {},
   "source": [
    "# Initial Thoughts\n",
    "\n",
    "\n",
    "#### have following variables\n",
    "\n",
    "#### Age - continuous\n",
    "#### Acid Level - continuous\n",
    "#### x ray res - binary\n",
    "#### tumour size - binary\n",
    "#### tumour grade - binary\n",
    "\n",
    " Predict nodal involvement - binary = logistic regression\n",
    "\n",
    "\n",
    "Do boxplots of age, acid level vs nodal involvement, \n",
    "Observe interaction plots and some more?"
   ]
  },
  {
   "cell_type": "code",
   "execution_count": 2,
   "metadata": {},
   "outputs": [],
   "source": [
    "import numpy as np\n",
    "import pandas as pd\n",
    "import matplotlib.pyplot as plt\n",
    "import statsmodels.api as sm\n",
    "# from scipy.stats import pearsonr\n"
   ]
  },
  {
   "cell_type": "code",
   "execution_count": 4,
   "metadata": {},
   "outputs": [
    {
     "data": {
      "text/html": [
       "<div>\n",
       "<style scoped>\n",
       "    .dataframe tbody tr th:only-of-type {\n",
       "        vertical-align: middle;\n",
       "    }\n",
       "\n",
       "    .dataframe tbody tr th {\n",
       "        vertical-align: top;\n",
       "    }\n",
       "\n",
       "    .dataframe thead th {\n",
       "        text-align: right;\n",
       "    }\n",
       "</style>\n",
       "<table border=\"1\" class=\"dataframe\">\n",
       "  <thead>\n",
       "    <tr style=\"text-align: right;\">\n",
       "      <th></th>\n",
       "      <th>Patient</th>\n",
       "      <th>Age</th>\n",
       "      <th>AcidLevel</th>\n",
       "      <th>XRayResult</th>\n",
       "      <th>TumourSize</th>\n",
       "      <th>TumourGrade</th>\n",
       "      <th>NodalInvolvement</th>\n",
       "    </tr>\n",
       "  </thead>\n",
       "  <tbody>\n",
       "    <tr>\n",
       "      <th>0</th>\n",
       "      <td>1</td>\n",
       "      <td>66</td>\n",
       "      <td>0.48</td>\n",
       "      <td>0</td>\n",
       "      <td>0</td>\n",
       "      <td>0</td>\n",
       "      <td>0</td>\n",
       "    </tr>\n",
       "    <tr>\n",
       "      <th>1</th>\n",
       "      <td>2</td>\n",
       "      <td>68</td>\n",
       "      <td>0.56</td>\n",
       "      <td>0</td>\n",
       "      <td>0</td>\n",
       "      <td>0</td>\n",
       "      <td>0</td>\n",
       "    </tr>\n",
       "    <tr>\n",
       "      <th>2</th>\n",
       "      <td>3</td>\n",
       "      <td>66</td>\n",
       "      <td>0.50</td>\n",
       "      <td>0</td>\n",
       "      <td>0</td>\n",
       "      <td>0</td>\n",
       "      <td>0</td>\n",
       "    </tr>\n",
       "    <tr>\n",
       "      <th>3</th>\n",
       "      <td>4</td>\n",
       "      <td>56</td>\n",
       "      <td>0.52</td>\n",
       "      <td>0</td>\n",
       "      <td>0</td>\n",
       "      <td>0</td>\n",
       "      <td>0</td>\n",
       "    </tr>\n",
       "    <tr>\n",
       "      <th>4</th>\n",
       "      <td>5</td>\n",
       "      <td>58</td>\n",
       "      <td>0.50</td>\n",
       "      <td>0</td>\n",
       "      <td>0</td>\n",
       "      <td>0</td>\n",
       "      <td>0</td>\n",
       "    </tr>\n",
       "  </tbody>\n",
       "</table>\n",
       "</div>"
      ],
      "text/plain": [
       "   Patient  Age  AcidLevel  XRayResult  TumourSize  TumourGrade  \\\n",
       "0        1   66       0.48           0           0            0   \n",
       "1        2   68       0.56           0           0            0   \n",
       "2        3   66       0.50           0           0            0   \n",
       "3        4   56       0.52           0           0            0   \n",
       "4        5   58       0.50           0           0            0   \n",
       "\n",
       "   NodalInvolvement  \n",
       "0                 0  \n",
       "1                 0  \n",
       "2                 0  \n",
       "3                 0  \n",
       "4                 0  "
      ]
     },
     "execution_count": 4,
     "metadata": {},
     "output_type": "execute_result"
    }
   ],
   "source": [
    "df = pd.read_csv('data.csv')\n",
    "\n",
    "df.head()\n"
   ]
  },
  {
   "cell_type": "code",
   "execution_count": 6,
   "metadata": {},
   "outputs": [],
   "source": [
    "X = df[['Age', 'AcidLevel', 'XRayResult', 'TumourSize', 'TumourGrade']]\n",
    "y = df[['NodalInvolvement']]"
   ]
  },
  {
   "cell_type": "code",
   "execution_count": 8,
   "metadata": {},
   "outputs": [
    {
     "name": "stdout",
     "output_type": "stream",
     "text": [
      "Optimization terminated successfully.\n",
      "         Current function value: 0.454017\n",
      "         Iterations 6\n",
      "                           Logit Regression Results                           \n",
      "==============================================================================\n",
      "Dep. Variable:       NodalInvolvement   No. Observations:                   53\n",
      "Model:                          Logit   Df Residuals:                       47\n",
      "Method:                           MLE   Df Model:                            5\n",
      "Date:                Tue, 02 Apr 2024   Pseudo R-squ.:                  0.3150\n",
      "Time:                        09:36:40   Log-Likelihood:                -24.063\n",
      "converged:                       True   LL-Null:                       -35.126\n",
      "Covariance Type:            nonrobust   LLR p-value:                 0.0004954\n",
      "===============================================================================\n",
      "                  coef    std err          z      P>|z|      [0.025      0.975]\n",
      "-------------------------------------------------------------------------------\n",
      "const           0.0618      3.460      0.018      0.986      -6.720       6.843\n",
      "Age            -0.0693      0.058     -1.197      0.231      -0.183       0.044\n",
      "AcidLevel       2.4344      1.316      1.850      0.064      -0.145       5.013\n",
      "XRayResult      2.0453      0.807      2.534      0.011       0.463       3.627\n",
      "TumourSize      1.5641      0.774      2.021      0.043       0.047       3.081\n",
      "TumourGrade     0.7614      0.771      0.988      0.323      -0.749       2.272\n",
      "===============================================================================\n"
     ]
    }
   ],
   "source": [
    "# Fit naive model:\n",
    "naive_model = sm.Logit(y, sm.add_constant(X)).fit()\n",
    "print(naive_model.summary())\n",
    "\n"
   ]
  }
 ],
 "metadata": {
  "kernelspec": {
   "display_name": "Python 3",
   "language": "python",
   "name": "python3"
  },
  "language_info": {
   "codemirror_mode": {
    "name": "ipython",
    "version": 3
   },
   "file_extension": ".py",
   "mimetype": "text/x-python",
   "name": "python",
   "nbconvert_exporter": "python",
   "pygments_lexer": "ipython3",
   "version": "3.11.5"
  }
 },
 "nbformat": 4,
 "nbformat_minor": 2
}
