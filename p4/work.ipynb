{
 "cells": [
  {
   "cell_type": "code",
   "execution_count": null,
   "metadata": {},
   "outputs": [],
   "source": [
    "# Initial Thoughts\n",
    "\n",
    "\n",
    "# have following variables\n",
    "\n",
    "# Age - continuous\n",
    "# Acid Level - continuous\n",
    "# x ray res - binary\n",
    "# tumour size - binary\n",
    "# tumour grade - binary\n",
    "\n",
    "# Predict nodal involvement - binary = logistic regression\n",
    "\n",
    "\n",
    "# Do boxplots of age, acid level vs nodal involvement, \n",
    "# Observe interaction plots and some more?"
   ]
  }
 ],
 "metadata": {
  "language_info": {
   "name": "python"
  }
 },
 "nbformat": 4,
 "nbformat_minor": 2
}
